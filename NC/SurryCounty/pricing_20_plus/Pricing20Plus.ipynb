{
 "cells": [
  {
   "cell_type": "code",
   "execution_count": 33,
   "metadata": {},
   "outputs": [],
   "source": [
    "import pandas as pd\n",
    "import numpy as np\n",
    "import requests\n",
    "from urllib.parse import urlencode\n",
    "\n",
    "\n",
    "import datetime\n",
    "\n",
    "pd.set_option('display.max_columns', 80)\n",
    "pd.set_option('display.max_rows', 5)"
   ]
  },
  {
   "cell_type": "code",
   "execution_count": 34,
   "metadata": {},
   "outputs": [
    {
     "data": {
      "text/plain": [
       "(24, 16)"
      ]
     },
     "execution_count": 34,
     "metadata": {},
     "output_type": "execute_result"
    }
   ],
   "source": [
    "# Read in the data\n",
    "df_original = pd.read_csv('redfin.csv')\n",
    "df_original.shape"
   ]
  },
  {
   "cell_type": "code",
   "execution_count": 35,
   "metadata": {},
   "outputs": [
    {
     "data": {
      "text/html": [
       "<div>\n",
       "<style scoped>\n",
       "    .dataframe tbody tr th:only-of-type {\n",
       "        vertical-align: middle;\n",
       "    }\n",
       "\n",
       "    .dataframe tbody tr th {\n",
       "        vertical-align: top;\n",
       "    }\n",
       "\n",
       "    .dataframe thead th {\n",
       "        text-align: right;\n",
       "    }\n",
       "</style>\n",
       "<table border=\"1\" class=\"dataframe\">\n",
       "  <thead>\n",
       "    <tr style=\"text-align: right;\">\n",
       "      <th></th>\n",
       "      <th>sold_date</th>\n",
       "      <th>address</th>\n",
       "      <th>city</th>\n",
       "      <th>state</th>\n",
       "      <th>zip</th>\n",
       "      <th>price</th>\n",
       "      <th>lot_size</th>\n",
       "      <th>acres</th>\n",
       "      <th>price_per_acre</th>\n",
       "      <th>redfin_url</th>\n",
       "      <th>mls</th>\n",
       "      <th>lat</th>\n",
       "      <th>long</th>\n",
       "      <th>status</th>\n",
       "      <th>parcel_number</th>\n",
       "      <th>regrid_url</th>\n",
       "    </tr>\n",
       "  </thead>\n",
       "  <tbody>\n",
       "    <tr>\n",
       "      <th>0</th>\n",
       "      <td>NaN</td>\n",
       "      <td>Wild Wings Ln</td>\n",
       "      <td>Thurmond</td>\n",
       "      <td>NC</td>\n",
       "      <td>28683</td>\n",
       "      <td>$63,000.00</td>\n",
       "      <td>4919231</td>\n",
       "      <td>112.930005</td>\n",
       "      <td>$557.87</td>\n",
       "      <td>https://www.redfin.com/NC/Thurmond/Wild-Wings-...</td>\n",
       "      <td>NaN</td>\n",
       "      <td>36.395656</td>\n",
       "      <td>-80.848901</td>\n",
       "      <td>Not Reviewed</td>\n",
       "      <td>NaN</td>\n",
       "      <td>NaN</td>\n",
       "    </tr>\n",
       "    <tr>\n",
       "      <th>1</th>\n",
       "      <td>NaN</td>\n",
       "      <td>Westridge Dr</td>\n",
       "      <td>Mount Airy</td>\n",
       "      <td>NC</td>\n",
       "      <td>27030</td>\n",
       "      <td>$85,000.00</td>\n",
       "      <td>3985740</td>\n",
       "      <td>91.500000</td>\n",
       "      <td>$928.96</td>\n",
       "      <td>https://www.redfin.com/NC/Mount-Airy/Westridge...</td>\n",
       "      <td>NaN</td>\n",
       "      <td>36.524123</td>\n",
       "      <td>-80.668731</td>\n",
       "      <td>Not Reviewed</td>\n",
       "      <td>NaN</td>\n",
       "      <td>NaN</td>\n",
       "    </tr>\n",
       "    <tr>\n",
       "      <th>...</th>\n",
       "      <td>...</td>\n",
       "      <td>...</td>\n",
       "      <td>...</td>\n",
       "      <td>...</td>\n",
       "      <td>...</td>\n",
       "      <td>...</td>\n",
       "      <td>...</td>\n",
       "      <td>...</td>\n",
       "      <td>...</td>\n",
       "      <td>...</td>\n",
       "      <td>...</td>\n",
       "      <td>...</td>\n",
       "      <td>...</td>\n",
       "      <td>...</td>\n",
       "      <td>...</td>\n",
       "      <td>...</td>\n",
       "    </tr>\n",
       "    <tr>\n",
       "      <th>22</th>\n",
       "      <td>NaN</td>\n",
       "      <td>245 Brentons Ridge Trl</td>\n",
       "      <td>State Road</td>\n",
       "      <td>NC</td>\n",
       "      <td>28676</td>\n",
       "      <td>$200,000.00</td>\n",
       "      <td>1089000</td>\n",
       "      <td>25.000000</td>\n",
       "      <td>$8,000.00</td>\n",
       "      <td>https://www.redfin.com/NC/State-Road/245-Brent...</td>\n",
       "      <td>NaN</td>\n",
       "      <td>36.352267</td>\n",
       "      <td>-80.881297</td>\n",
       "      <td>Not Reviewed</td>\n",
       "      <td>NaN</td>\n",
       "      <td>NaN</td>\n",
       "    </tr>\n",
       "    <tr>\n",
       "      <th>23</th>\n",
       "      <td>March-30-2023</td>\n",
       "      <td>288 E Collins Ln</td>\n",
       "      <td>Dobson</td>\n",
       "      <td>NC</td>\n",
       "      <td>27017</td>\n",
       "      <td>$200,000.00</td>\n",
       "      <td>1010156</td>\n",
       "      <td>23.189991</td>\n",
       "      <td>$8,624.41</td>\n",
       "      <td>https://www.redfin.com/NC/Dobson/288-E-Collins...</td>\n",
       "      <td>1071633.0</td>\n",
       "      <td>36.396048</td>\n",
       "      <td>-80.699611</td>\n",
       "      <td>Not Reviewed</td>\n",
       "      <td>NaN</td>\n",
       "      <td>NaN</td>\n",
       "    </tr>\n",
       "  </tbody>\n",
       "</table>\n",
       "<p>24 rows × 16 columns</p>\n",
       "</div>"
      ],
      "text/plain": [
       "        sold_date                 address        city state    zip  \\\n",
       "0             NaN           Wild Wings Ln    Thurmond    NC  28683   \n",
       "1             NaN            Westridge Dr  Mount Airy    NC  27030   \n",
       "..            ...                     ...         ...   ...    ...   \n",
       "22            NaN  245 Brentons Ridge Trl  State Road    NC  28676   \n",
       "23  March-30-2023        288 E Collins Ln      Dobson    NC  27017   \n",
       "\n",
       "            price  lot_size       acres price_per_acre  \\\n",
       "0     $63,000.00    4919231  112.930005       $557.87    \n",
       "1     $85,000.00    3985740   91.500000       $928.96    \n",
       "..            ...       ...         ...            ...   \n",
       "22   $200,000.00    1089000   25.000000     $8,000.00    \n",
       "23   $200,000.00    1010156   23.189991     $8,624.41    \n",
       "\n",
       "                                           redfin_url        mls        lat  \\\n",
       "0   https://www.redfin.com/NC/Thurmond/Wild-Wings-...        NaN  36.395656   \n",
       "1   https://www.redfin.com/NC/Mount-Airy/Westridge...        NaN  36.524123   \n",
       "..                                                ...        ...        ...   \n",
       "22  https://www.redfin.com/NC/State-Road/245-Brent...        NaN  36.352267   \n",
       "23  https://www.redfin.com/NC/Dobson/288-E-Collins...  1071633.0  36.396048   \n",
       "\n",
       "         long        status  parcel_number  regrid_url  \n",
       "0  -80.848901  Not Reviewed            NaN         NaN  \n",
       "1  -80.668731  Not Reviewed            NaN         NaN  \n",
       "..        ...           ...            ...         ...  \n",
       "22 -80.881297  Not Reviewed            NaN         NaN  \n",
       "23 -80.699611  Not Reviewed            NaN         NaN  \n",
       "\n",
       "[24 rows x 16 columns]"
      ]
     },
     "execution_count": 35,
     "metadata": {},
     "output_type": "execute_result"
    }
   ],
   "source": [
    "df = df_original.copy()\n",
    "df"
   ]
  },
  {
   "cell_type": "code",
   "execution_count": 30,
   "metadata": {},
   "outputs": [
    {
     "data": {
      "text/plain": [
       "'495600581103'"
      ]
     },
     "execution_count": 30,
     "metadata": {},
     "output_type": "execute_result"
    }
   ],
   "source": [
    "def interpolate_coordinates(lat, long):\n",
    "    base_url = \"https://app.regrid.com/search.json\"\n",
    "    params = {\n",
    "        'query': f\"{lat}{long}\",\n",
    "        'context': '/us/nc/surry',\n",
    "        'strict': 'false'\n",
    "    }\n",
    "\n",
    "    url = base_url + '?' + urlencode(params)\n",
    "    headers = {\n",
    "        \"User-Agent\": \"Mozilla/5.0 (Macintosh; Intel Mac OS X 10_15_7) AppleWebKit/537.36 (KHTML, like Gecko) Chrome/113.0.0.0 Safari/537.36\"\n",
    "    }\n",
    "\n",
    "    response = requests.get(url, headers=headers)\n",
    "    data = response.json()\n",
    "    return data"
   ]
  },
  {
   "cell_type": "code",
   "execution_count": 32,
   "metadata": {},
   "outputs": [
    {
     "ename": "TypeError",
     "evalue": "interpolate_coordinates() takes 1 positional argument but 2 were given",
     "output_type": "error",
     "traceback": [
      "\u001b[0;31m---------------------------------------------------------------------------\u001b[0m",
      "\u001b[0;31mTypeError\u001b[0m                                 Traceback (most recent call last)",
      "Cell \u001b[0;32mIn[32], line 8\u001b[0m\n\u001b[1;32m      5\u001b[0m longitude \u001b[39m=\u001b[39m row[\u001b[39m'\u001b[39m\u001b[39mlong\u001b[39m\u001b[39m'\u001b[39m]\n\u001b[1;32m      7\u001b[0m \u001b[39m# Call the interpolate_coordinates function\u001b[39;00m\n\u001b[0;32m----> 8\u001b[0m parcel_numb, path \u001b[39m=\u001b[39m interpolate_coordinates(latitude, longitude)\n\u001b[1;32m     10\u001b[0m df\u001b[39m.\u001b[39mat[index, \u001b[39m'\u001b[39m\u001b[39mparcel_number\u001b[39m\u001b[39m'\u001b[39m] \u001b[39m=\u001b[39m parcel_numb\n\u001b[1;32m     11\u001b[0m df\u001b[39m.\u001b[39mat[index, \u001b[39m'\u001b[39m\u001b[39mpath\u001b[39m\u001b[39m'\u001b[39m] \u001b[39m=\u001b[39m path\n",
      "\u001b[0;31mTypeError\u001b[0m: interpolate_coordinates() takes 1 positional argument but 2 were given"
     ]
    }
   ],
   "source": []
  },
  {
   "cell_type": "code",
   "execution_count": null,
   "metadata": {},
   "outputs": [],
   "source": []
  }
 ],
 "metadata": {
  "kernelspec": {
   "display_name": "county",
   "language": "python",
   "name": "python3"
  },
  "language_info": {
   "codemirror_mode": {
    "name": "ipython",
    "version": 3
   },
   "file_extension": ".py",
   "mimetype": "text/x-python",
   "name": "python",
   "nbconvert_exporter": "python",
   "pygments_lexer": "ipython3",
   "version": "3.9.16"
  },
  "orig_nbformat": 4
 },
 "nbformat": 4,
 "nbformat_minor": 2
}
